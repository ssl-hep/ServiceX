{
 "cells": [
  {
   "cell_type": "markdown",
   "id": "3f52b008-794b-4f59-b00f-bd9146847445",
   "metadata": {},
   "source": [
    "# Z_ee Example for ATLAS xAOD Fileset\n",
    "This notebook demonstrates the use of ServiceX and the _Coffea_ Local Executor to extract electron\n",
    "data from an ATLAS Dataset and plot the mass of the Z Boson"
   ]
  },
  {
   "cell_type": "code",
   "execution_count": 1,
   "id": "d0060b97",
   "metadata": {},
   "outputs": [],
   "source": [
    "from servicex import ServiceXDataset\n",
    "from coffea.processor.servicex import DataSource, FuncAdlDataset, Analysis\n",
    "from coffea.processor.servicex import LocalExecutor \n",
    "\n",
    "import matplotlib.pyplot as plt\n",
    "\n",
    "from coffea import hist, processor\n",
    "from IPython.display import display, update_display, HTML\n",
    "\n"
   ]
  },
  {
   "cell_type": "markdown",
   "id": "e5524fb2-5b54-4777-b08a-f61fc48cf34e",
   "metadata": {},
   "source": [
    "## Specify the Dataset Identifier\n",
    "The interface can easily process multiple datasets. Here we create a single one with the Rucio DID along with a backend \n",
    "specification that tells ServiceX these will be xAOD files"
   ]
  },
  {
   "cell_type": "code",
   "execution_count": 2,
   "id": "bc290ca2",
   "metadata": {},
   "outputs": [],
   "source": [
    "dids = ['mc15_13TeV:mc15_13TeV.361106.PowhegPythia8EvtGen_AZNLOCTEQ6L1_Zee.merge.DAOD_STDM3.e3601_s2576_s2132_r6630_r6264_p2363_tid05630052_00']\n",
    "datasets = [\n",
    "    ServiceXDataset(did, backend_type='xaod', ignore_cache=False)\n",
    "    for did in dids\n",
    "]"
   ]
  },
  {
   "cell_type": "markdown",
   "id": "05118bde-284c-4e69-8442-47bed5beb1bb",
   "metadata": {},
   "source": [
    "## Specify The Query\n",
    "We will be using the [func_adl](https://github.com/iris-hep/func_adl_xAOD) language to specify the electron data we\n",
    "want retrieved from the events along with a simple filter that only returns events with two electrons"
   ]
  },
  {
   "cell_type": "code",
   "execution_count": 3,
   "id": "5f6bb53d",
   "metadata": {},
   "outputs": [],
   "source": [
    "leptons_per_event_query = FuncAdlDataset() \\\n",
    "        .Select(lambda e: e.Electrons(\"Electrons\")) \\\n",
    "        .Select(lambda eles: eles.Where(lambda e: e.pt()/1000.0 > 30.0)) \\\n",
    "        .Select(lambda eles: eles.Where(lambda e: abs(e.eta()) < 2.5)) \\\n",
    "        .Where(lambda eles: len(eles) == 2) \\\n",
    "        .Select(lambda ls: (ls.Select(lambda e: e.pt()/1000.0), ls.Select(lambda e: e.eta()), ls.Select(lambda e: e.phi()), ls.Select(lambda e: e.m()/1000.0), ls.Select(lambda e: e.charge()))) \\\n",
    "        .AsROOTTTree('data.root', 'mytree', ('electrons_pt', 'electrons_eta', 'electrons_phi', 'electrons_mass', 'electrons_charge'))"
   ]
  },
  {
   "cell_type": "code",
   "execution_count": 4,
   "id": "bc7ee579",
   "metadata": {},
   "outputs": [],
   "source": [
    "datasource = DataSource(query=leptons_per_event_query, metadata={}, datasets=datasets)"
   ]
  },
  {
   "cell_type": "markdown",
   "id": "d07da769-ce7f-40b9-9f88-58d55d503f6b",
   "metadata": {},
   "source": [
    "## The Physics Code\n",
    "We create a python function that simply accepts a _Coffea_ [NanoEvents](https://coffeateam.github.io/coffea/modules/coffea.nanoevents.html) instance that contains all of the events from a single \n",
    "root file out of the dataset. It returns a dict of histograms.\n",
    "\n",
    "In this case `sumw` is the total number of events and `mass` is a historgram of the dielectron mass"
   ]
  },
  {
   "cell_type": "code",
   "execution_count": 5,
   "id": "4b1f4ef4",
   "metadata": {},
   "outputs": [],
   "source": [
    "class Z_EEAnalysis(Analysis):\n",
    "    @staticmethod\n",
    "    def process(events):\n",
    "        import awkward as ak\n",
    "        from collections import defaultdict\n",
    "\n",
    "        sumw = defaultdict(float)\n",
    "        mass_hist = hist.Hist(\n",
    "            \"Events\",\n",
    "            hist.Cat(\"dataset\", \"Dataset\"),\n",
    "            hist.Bin(\"mass\", \"$Z_{ee}$ [GeV]\", 60, 60, 120),\n",
    "        )\n",
    "\n",
    "        dataset = events.metadata['dataset']\n",
    "        electrons = events.electrons\n",
    "\n",
    "        # Form the invar mass, plot.\n",
    "        cut = (ak.num(electrons) == 2)\n",
    "        diele = electrons[cut][:, 0] + electrons[cut][:, 1]\n",
    "\n",
    "        sumw[dataset] += len(events)\n",
    "        mass_hist.fill(\n",
    "            dataset=dataset,\n",
    "            mass=diele.mass,\n",
    "        )\n",
    "        \n",
    "        return {\n",
    "            \"sumw\": sumw,\n",
    "            \"mass\": mass_hist\n",
    "        }\n",
    "\n"
   ]
  },
  {
   "cell_type": "markdown",
   "id": "c2c8d399-f58e-4a56-93c8-dbdf5223cf73",
   "metadata": {},
   "source": [
    "## Create an Executor\n",
    "We use an executor instance to receive the events streaming out of ServiceX and apply the analysis function. This is using \n",
    "the `LocalExecutor` which just runs on your local computer. There is support for Dask, FuncX, or Ray exectors."
   ]
  },
  {
   "cell_type": "code",
   "execution_count": 12,
   "id": "54951e34",
   "metadata": {},
   "outputs": [],
   "source": [
    "analysis = Z_EEAnalysis()\n",
    "executor = LocalExecutor()"
   ]
  },
  {
   "cell_type": "markdown",
   "id": "d06aba76-ab2d-4f6a-92c3-8366d24cd910",
   "metadata": {},
   "source": [
    "## Run the Analysis and Dynamically Plot the Results\n",
    "Create a little asynchronous function that awaits results from the analysis and updates a histogram plot"
   ]
  },
  {
   "cell_type": "code",
   "execution_count": 13,
   "id": "40a39756",
   "metadata": {},
   "outputs": [
    {
     "data": {
      "image/png": "[encoded data removed]",
      "text/plain": [
       "<Figure size 432x288 with 1 Axes>"
      ]
     },
     "metadata": {},
     "output_type": "display_data"
    }
   ],
   "source": [
    "%matplotlib inline\n",
    "async def plot_stream(accumulator_stream):\n",
    "  global first\n",
    "  fig, axes = plt.subplots()\n",
    "  first = True\n",
    "\n",
    "\n",
    "  count = 0\n",
    "  async for coffea_info in accumulator_stream:\n",
    "    hist.plot1d(coffea_info['mass'], ax=axes)\n",
    "\n",
    "    count += 1\n",
    "    plt.text(0.95, 0.8, f'Chunks of data: {count}', horizontalalignment='right', transform=axes.transAxes)\n",
    "\n",
    "    # Either display it or update a previous version of the plot\n",
    "    if first:\n",
    "        display(fig, display_id='mass_update')\n",
    "        first = False\n",
    "    else:\n",
    "        update_display(fig, display_id='mass_update')\n",
    "  return coffea_info\n",
    "\n",
    "await plot_stream(executor.execute(analysis, datasource))\n",
    "plt.close()  # Prevents another copy of the plot showing up in the notebook"
   ]
  }
 ],
 "metadata": {
  "kernelspec": {
   "display_name": "Python 3",
   "language": "python",
   "name": "python3"
  },
  "language_info": {
   "codemirror_mode": {
    "name": "ipython",
    "version": 3
   },
   "file_extension": ".py",
   "mimetype": "text/x-python",
   "name": "python",
   "nbconvert_exporter": "python",
   "pygments_lexer": "ipython3",
   "version": "3.8.6"
  }
 },
 "nbformat": 4,
 "nbformat_minor": 5
}
