{
 "cells": [
  {
   "cell_type": "code",
   "execution_count": null,
   "id": "c283f00c-c9a7-42b7-a51b-3765bf0464c7",
   "metadata": {},
   "outputs": [],
   "source": [
    "%matplotlib inline\n",
    "from func_adl_servicex import ServiceXSourceUpROOT\n",
    "\n",
    "# compute dilepton mass (zero mass leptons)\n",
    "def m(d, l1, l2):\n",
    "    import numpy\n",
    "    return numpy.sqrt(2*d[f'lep_pt_{l1}']*d[f'lep_pt_{l2}']*\n",
    "                    (numpy.cosh(d[f'lep_eta_{l1}']-d[f'lep_eta_{l2}'])\n",
    "                     -numpy.cos(d[f'lep_phi_{l1}']-d[f'lep_phi_{l2}'])))"
   ]
  },
  {
   "cell_type": "code",
   "execution_count": null,
   "id": "39c5b680-b187-4e3e-987f-8e3d3b46205a",
   "metadata": {},
   "outputs": [],
   "source": [
    "# Inclusive selection for lepton quantities and a few other things from a specific rucio dataset\n",
    "# returns awkward array\n",
    "dataset_uproot = \"user.kchoi:user.kchoi.ttHML_80fb_ttZ\"\n",
    "ds = ServiceXSourceUpROOT(dataset_uproot, \"nominal\")\n",
    "data = ds.Select(\"lambda e: {'lep_pt_0': e.lep_Pt_0/1000., \\\n",
    "                             'lep_pt_1': e.lep_Pt_1/1000., \\\n",
    "                             'lep_pt_2': e.lep_Pt_2/1000., \\\n",
    "                             'lep_eta_0': e.lep_Eta_0, \\\n",
    "                             'lep_eta_1': e.lep_Eta_1, \\\n",
    "                             'lep_eta_2': e.lep_Eta_2, \\\n",
    "                             'lep_phi_0': e.lep_Phi_0, \\\n",
    "                             'lep_phi_1': e.lep_Phi_1, \\\n",
    "                             'lep_phi_2': e.lep_Phi_2, \\\n",
    "                             'lep_id_0': e.lep_ID_0, \\\n",
    "                             'lep_id_1': e.lep_ID_1, \\\n",
    "                             'lep_id_2': e.lep_ID_2, \\\n",
    "                             'is3L': e.is3L, \\\n",
    "                             'mcWeight': e.mcWeightOrg, \\\n",
    "                             'nJets': e.nJets_OR, \\\n",
    "                             'nBJets': e.nJets_OR_MV2c10_70, \\\n",
    "                             'Mll01': e.Mll01/1000., \\\n",
    "                 }\") \\\n",
    "    .AsAwkwardArray() \\\n",
    "    .value()"
   ]
  },
  {
   "cell_type": "code",
   "execution_count": null,
   "id": "b9ad7357-483a-4579-85c0-49da57b09c72",
   "metadata": {},
   "outputs": [],
   "source": [
    "import matplotlib.pyplot as plt\n",
    "\n",
    "# Make some cuts: trilepton events, and perhaps leptons 0,1 or 0,2 are opposite-sign, same flavor\n",
    "# (Ntuple is such that if total charge is +- 1, leptons 1 and 2 are same sign)\n",
    "is3L = data['is3L']\n",
    "OSSF01 = is3L & (data['lep_id_0'] == -data['lep_id_1'])\n",
    "OSSF02 = is3L & (data['lep_id_0'] == -data['lep_id_2'])\n",
    "\n",
    "# make matplotlib histograms with weights\n",
    "# there are of course many other plotting packages one can use\n",
    "plt.subplots(1,2, figsize=(12,5))\n",
    "plt.subplot(1,2,1)\n",
    "plt.hist(m(data[OSSF01], 0, 1), range=(0,200), bins=50, weights=data[OSSF01]['mcWeight'])\n",
    "plt.xlabel('m(l0,l1) [GeV]')\n",
    "plt.ylabel('Events/4 GeV')\n",
    "plt.subplot(1,2,2)\n",
    "plt.hist(m(data[OSSF02], 0, 2), range=(0,200), bins=50, weights=data[OSSF02]['mcWeight'])\n",
    "plt.xlabel('m(l0,l2) [GeV]')\n",
    "plt.ylabel('Events/4 GeV')\n",
    "plt.show()"
   ]
  },
  {
   "cell_type": "code",
   "execution_count": null,
   "id": "6ad84eef",
   "metadata": {},
   "outputs": [],
   "source": [
    "# Fill a ROOT histogram, should we prefer that for visualization\n",
    "import ROOT\n",
    "h1 = ROOT.TH1F('h1', 'example', 50, 0, 200)\n",
    "for val, weight in zip(m(data[OSSF01], 0, 1), data[OSSF01]['mcWeight']):\n",
    "    h1.Fill(val, weight)\n",
    "c1 = ROOT.TCanvas()\n",
    "h1.Draw('HIST')\n",
    "c1.Draw()"
   ]
  },
  {
   "cell_type": "code",
   "execution_count": null,
   "id": "e3deb56c",
   "metadata": {},
   "outputs": [],
   "source": [
    "# compare our computed M(l0, l1) with the precomputed one from the ntuple itself\n",
    "plt.hist(m(data[OSSF01], 0, 1), range=(0,200), bins=50, weights=data[OSSF01]['mcWeight'], label='Locally computed')\n",
    "plt.hist(data[OSSF01]['Mll01'], range=(0,200), bins=50, weights=data[OSSF01]['mcWeight'], histtype='step', linewidth=2, label='From ntuple')\n",
    "plt.xlabel('m(l0,l1) [GeV]')\n",
    "plt.ylabel('Events/4 GeV')\n",
    "plt.legend()\n",
    "plt.show()"
   ]
  },
  {
   "cell_type": "code",
   "execution_count": null,
   "id": "27830d59",
   "metadata": {},
   "outputs": [],
   "source": [
    "# Make a 2D matplotlib histogram\n",
    "import awkward as ak\n",
    "plt.figure(figsize=(6,6))\n",
    "plt.hist2d(ak.to_numpy(m(data[is3L], 0, 1)), ak.to_numpy(m(data[is3L], 0, 2)), range=((0,250),(0,250)), bins=(100,100))\n",
    "plt.xlabel('m(l0,l1) [GeV]')\n",
    "plt.ylabel('m(l0,l2) [GeV]')\n",
    "plt.show()"
   ]
  },
  {
   "cell_type": "code",
   "execution_count": null,
   "id": "f61b79b7",
   "metadata": {},
   "outputs": [],
   "source": [
    "# Apply cuts in ServiceX selection with Where clause\n",
    "# Can significantly reduce size of download from ServiceX!\n",
    "dataset_uproot = \"user.kchoi:user.kchoi.ttHML_80fb_ttZ\"\n",
    "ds = ServiceXSourceUpROOT(dataset_uproot, \"nominal\")\n",
    "data_cut = ds.Select(\"lambda e: {'lep_pt_0': e.lep_Pt_0/1000., \\\n",
    "                             'lep_pt_1': e.lep_Pt_1/1000., \\\n",
    "                             'lep_pt_2': e.lep_Pt_2/1000., \\\n",
    "                             'lep_eta_0': e.lep_Eta_0, \\\n",
    "                             'lep_eta_1': e.lep_Eta_1, \\\n",
    "                             'lep_eta_2': e.lep_Eta_2, \\\n",
    "                             'lep_phi_0': e.lep_Phi_0, \\\n",
    "                             'lep_phi_1': e.lep_Phi_1, \\\n",
    "                             'lep_phi_2': e.lep_Phi_2, \\\n",
    "                             'lep_id_0': e.lep_ID_0, \\\n",
    "                             'lep_id_1': e.lep_ID_1, \\\n",
    "                             'lep_id_2': e.lep_ID_2, \\\n",
    "                             'is3L': e.is3L, \\\n",
    "                             'mcWeight': e.mcWeightOrg, \\\n",
    "                             'nJets': e.nJets_OR, \\\n",
    "                             'nBJets': e.nJets_OR_MV2c10_70, \\\n",
    "                 }\") \\\n",
    "    .Where('lambda e: e.is3L and e.nJets >= 4') \\\n",
    "    .AsAwkwardArray() \\\n",
    "    .value()"
   ]
  },
  {
   "cell_type": "code",
   "execution_count": null,
   "id": "fe76dbe7",
   "metadata": {},
   "outputs": [],
   "source": [
    "# show ServiceX cuts give the same results as doing the cuts on the inclusive dataset\n",
    "# blue filled histogram = ServiceX does cuts; orange unfilled histogram = client code does cuts\n",
    "\n",
    "plt.subplots(1,2, figsize=(12,5))\n",
    "plt.subplot(1,2,1)\n",
    "\n",
    "# selection to apply to inclusive dataset\n",
    "is3L_nJets = is3L & (data['nJets'] >= 4)\n",
    "\n",
    "plt.hist(data_cut['nJets'], range=(1.5,8.5), bins=7, weights=data_cut['mcWeight'], label='ServiceX cut')\n",
    "plt.hist(data[is3L_nJets]['nJets'], range=(1.5,8.5), bins=7, weights=data[is3L_nJets]['mcWeight'], histtype='step', linewidth=4, label='Local cut')\n",
    "plt.xlabel('# jets')\n",
    "plt.legend()\n",
    "plt.subplot(1,2,2)\n",
    "plt.hist(data_cut['nBJets'], range=(-0.5,4.5), bins=5, weights=data_cut['mcWeight'], label='ServiceX cut')\n",
    "plt.hist(data[is3L_nJets]['nBJets'], range=(-0.5,4.5), bins=5, weights=data[is3L_nJets]['mcWeight'], histtype='step', linewidth=4, label='Local cut')\n",
    "plt.xlabel('# b-jets')\n",
    "plt.legend()\n",
    "plt.show()"
   ]
  }
 ],
 "metadata": {
  "kernelspec": {
   "display_name": "Python 3",
   "language": "python",
   "name": "python3"
  },
  "language_info": {
   "codemirror_mode": {
    "name": "ipython",
    "version": 3
   },
   "file_extension": ".py",
   "mimetype": "text/x-python",
   "name": "python",
   "nbconvert_exporter": "python",
   "pygments_lexer": "ipython3",
   "version": "3.8.10"
  }
 },
 "nbformat": 4,
 "nbformat_minor": 5
}
