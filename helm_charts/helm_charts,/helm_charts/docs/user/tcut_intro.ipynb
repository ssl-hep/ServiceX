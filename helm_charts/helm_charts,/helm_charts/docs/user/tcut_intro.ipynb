{
 "cells": [
  {
   "cell_type": "markdown",
   "metadata": {},
   "source": [
    "# `TCut` Introduction\n",
    "\n",
    "TCut allows for simple selection cuts and lists of columns.\n",
    "\n",
    "## Using `TCut` with the `uproot` backend."
   ]
  },
  {
   "cell_type": "code",
   "execution_count": 1,
   "metadata": {},
   "outputs": [],
   "source": [
    "from servicex import ServiceXDataset\n",
    "import tcut_to_qastle\n",
    "\n",
    "dataset_uproot = \"user.kchoi:user.kchoi.ttHML_80fb_ttbar\"\n",
    "\n",
    "query = tcut_to_qastle.translate('nominal','lep_Pt_1','lep_Pt_1>1000')\n",
    "sx_dataset = ServiceXDataset(dataset=dataset_uproot, backend_type='uproot')\n",
    "data = sx_dataset.get_data_awkward(query)"
   ]
  },
  {
   "cell_type": "code",
   "execution_count": 2,
   "metadata": {},
   "outputs": [
    {
     "data": {
      "image/png": "[encoded data removed]",
      "text/plain": [
       "<Figure size 432x288 with 1 Axes>"
      ]
     },
     "metadata": {
      "needs_background": "light"
     },
     "output_type": "display_data"
    }
   ],
   "source": [
    "import matplotlib.pyplot as plt\n",
    "plt.hist((data['lep_Pt_1']/1000.0).flatten(), bins=100)\n",
    "plt.yscale('log')\n",
    "_ = plt.xlabel('Lepton 1 $p_T$ [GeV]')"
   ]
  },
  {
   "cell_type": "markdown",
   "metadata": {},
   "source": [
    "### Line-by-line explination of the query"
   ]
  },
  {
   "cell_type": "code",
   "execution_count": null,
   "metadata": {},
   "outputs": [],
   "source": []
  }
 ],
 "metadata": {
  "kernelspec": {
   "display_name": "Python 3",
   "language": "python",
   "name": "python3"
  },
  "language_info": {
   "codemirror_mode": {
    "name": "ipython",
    "version": 3
   },
   "file_extension": ".py",
   "mimetype": "text/x-python",
   "name": "python",
   "nbconvert_exporter": "python",
   "pygments_lexer": "ipython3",
   "version": "3.7.7"
  }
 },
 "nbformat": 4,
 "nbformat_minor": 4
}
