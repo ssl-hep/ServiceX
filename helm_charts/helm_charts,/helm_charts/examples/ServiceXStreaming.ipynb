{
 "cells": [
  {
   "cell_type": "markdown",
   "metadata": {},
   "source": [
    "# ServiceX Example"
   ]
  },
  {
   "cell_type": "code",
   "execution_count": 49,
   "metadata": {},
   "outputs": [],
   "source": [
    "import requests\n",
    "from minio import Minio\n",
    "import tempfile\n",
    "import pyarrow.parquet as pq\n",
    "import pyarrow as pa\n",
    "import awkward\n",
    "from confluent_kafka import Consumer, KafkaException\n",
    "\n"
   ]
  },
  {
   "cell_type": "markdown",
   "metadata": {},
   "source": [
    "## Submit the Transform Request\n",
    "We will create a REST request that specifies a DID along with a list of columns we want extracted.\n",
    "\n",
    "We also tell ServiceX that we want the resulting columns to be stored as parquet files in the object store"
   ]
  },
  {
   "cell_type": "code",
   "execution_count": 32,
   "metadata": {},
   "outputs": [
    {
     "name": "stdout",
     "output_type": "stream",
     "text": [
      "{'request_id': '7a68f3d5-30d0-44b3-94bf-1d25f7988449'}\n"
     ]
    }
   ],
   "source": [
    "    servicex_endpoint = \"http://localhost:5000/servicex\"\n",
    "    response = requests.post(servicex_endpoint+\"/transformation\", json={\n",
    "        \"did\": \"mc15_13TeV:mc15_13TeV.361106.PowhegPythia8EvtGen_AZNLOCTEQ6L1_Zee.merge.DAOD_STDM3.e3601_s2576_s2132_r6630_r6264_p2363_tid05630052_00\",\n",
    "        \"columns\": \"Electrons.pt(), Electrons.eta(), Electrons.phi(), Electrons.e(), Muons.pt(), Muons.eta(), Muons.phi(), Muons.e()\",\n",
    "        \"image\": \"sslhep/servicex-transformer:latest\",\n",
    "        \"result-destination\": \"kafka\",\n",
    "        \"kafka\":{\n",
    "            \"broker\": \"servicex-kafka-1.slateci.net:19092\"\n",
    "        },\n",
    "        \"chunk-size\": 500,\n",
    "        \"workers\": 1\n",
    "    })\n",
    "\n",
    "    print(response.json())\n",
    "    request_id = response.json()[\"request_id\"]\n",
    "    status_endpoint = servicex_endpoint+\"/transformation/{}/status\".format(request_id)\n"
   ]
  },
  {
   "cell_type": "markdown",
   "metadata": {},
   "source": [
    "## Wait for the Transform to Complete"
   ]
  },
  {
   "cell_type": "code",
   "execution_count": 33,
   "metadata": {},
   "outputs": [
    {
     "name": "stdout",
     "output_type": "stream",
     "text": [
      "We have processed 0 files there are 1 remainng\n"
     ]
    }
   ],
   "source": [
    "status = requests.get(status_endpoint).json()\n",
    "print(\"We have processed {} files there are {} remainng\".format(status['files-processed'], status['files-remaining']))\n"
   ]
  },
  {
   "cell_type": "code",
   "execution_count": null,
   "metadata": {},
   "outputs": [],
   "source": [
    "conf = {'bootstrap.servers': \"servicex-kafka-1.slateci.net:19092\",\n",
    "        'group.id': \"foo2\",\n",
    "        'default.topic.config': {'auto.offset.reset': 'smallest'}}\n",
    "\n",
    "c = Consumer(conf)\n",
    "\n",
    "print(c.list_topics().topics[request_id])\n",
    "    \n",
    "c.subscribe([request_id])\n",
    "timeout = 10.0 # Need a long timeout to allow for partition assignment\n",
    "running = True\n",
    "while running:\n",
    "    msg = c.poll(timeout=timeout)\n",
    "    if msg is None:\n",
    "        running = False\n",
    "        continue\n",
    "    if msg.error():\n",
    "        raise KafkaException(msg.error())\n",
    "    else:\n",
    "        # Proper message\n",
    "        print('%% %s [%d] at offset %d with key %s:\\n' %\n",
    "                         (msg.topic(), msg.partition(), msg.offset(),\n",
    "                          str(msg.key())))\n",
    "        buf = msg.value()\n",
    "        reader = pa.ipc.open_stream(buf)\n",
    "        batches = [b for b in reader]\n",
    "        for batch in batches:\n",
    "            arrays = awkward.fromarrow(batch)\n",
    "            print(arrays)\n",
    "\n"
   ]
  },
  {
   "cell_type": "code",
   "execution_count": null,
   "metadata": {},
   "outputs": [],
   "source": []
  },
  {
   "cell_type": "code",
   "execution_count": null,
   "metadata": {},
   "outputs": [],
   "source": []
  }
 ],
 "metadata": {
  "celltoolbar": "Raw Cell Format",
  "kernelspec": {
   "display_name": "Python 3",
   "language": "python",
   "name": "python3"
  },
  "language_info": {
   "codemirror_mode": {
    "name": "ipython",
    "version": 3
   },
   "file_extension": ".py",
   "mimetype": "text/x-python",
   "name": "python",
   "nbconvert_exporter": "python",
   "pygments_lexer": "ipython3",
   "version": "3.6.4"
  }
 },
 "nbformat": 4,
 "nbformat_minor": 2
}
